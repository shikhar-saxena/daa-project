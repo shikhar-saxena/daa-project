{
 "cells": [
  {
   "cell_type": "markdown",
   "id": "d9f84071",
   "metadata": {},
   "source": [
    "# Trial Division Test\n",
    "\n",
    "```{prf:theorem}\n",
    "Let $n > 1$ be an integer. Then n has no prime divisor less than or equal to $\\sqrt{n}$ if and only if $n$ is prime.\n",
    "```\n",
    "\n",
    "```{prf:proof}\n",
    "\n",
    "If $n$ is composite, then $n = ab$ where $a > 1$ and $b > 1$. For convenience suppose $a\\le b$. \n",
    "\n",
    "Let $p$ be a prime divisor of a. Thus, $p \\le a \\le b$. So\n",
    "\n",
    "$p^2 \\le a^2 \\le ab = n$\n",
    "\n",
    "Since, $p | a$ and $a | n$ we have $p | n$.\n",
    "```\n",
    "\n",
    "## Divisibility Test\n",
    "\n",
    "A divisibility test is a procedure applied to a number $n$ so as to determine whether $n$ is divisible by a particular small number or not. \n",
    "\n",
    "From a computational point of view, checking if $n$ is divisible by a number $p$ can be achieved by dividing $n$ by $p$ and getting the quotient and remainder. For remainder being 0, the number is said to be divisible and $p$ is said to be a *factor* of $n$.\n",
    "\n",
    "**Trial Division** is the most laborious but easiest to understand of the integer factorization algorithms.\n",
    "\n",
    "We sequentially check whether *n* is divisible or not by the members of the set of trial divisors for *n*. \n",
    " <!--TODO: FIXME:  -->\n",
    "\n",
    "It is not necessary that the trial divisors be all primes. To speed things up, however we may exploit the fact that after 2, we can skip the other even numbers. So, 2 and the odd numbers may be used as trial divisors."
   ]
  }
 ],
 "metadata": {
  "jupytext": {
   "formats": "md:myst",
   "text_representation": {
    "extension": ".md",
    "format_name": "myst"
   }
  },
  "kernelspec": {
   "display_name": "Python 3",
   "language": "python",
   "name": "python3"
  },
  "language_info": {
   "codemirror_mode": {
    "name": "ipython",
    "version": 3
   },
   "file_extension": ".py",
   "mimetype": "text/x-python",
   "name": "python",
   "nbconvert_exporter": "python",
   "pygments_lexer": "ipython3",
   "version": "3.9.9"
  },
  "source_map": [
   11
  ]
 },
 "nbformat": 4,
 "nbformat_minor": 5
}