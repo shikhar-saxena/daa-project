{
 "cells": [
  {
   "cell_type": "code",
   "execution_count": 1,
   "id": "7d621d5a",
   "metadata": {
    "tags": [
     "mytag"
    ]
   },
   "outputs": [
    {
     "name": "stdout",
     "output_type": "stream",
     "text": [
      "A python cell\n"
     ]
    }
   ],
   "source": [
    "print(\"A python cell\")"
   ]
  }
 ],
 "metadata": {
  "jupytext": {
   "formats": "md:myst",
   "text_representation": {
    "extension": ".md",
    "format_name": "myst"
   }
  },
  "kernelspec": {
   "display_name": "Python 3",
   "language": "python",
   "name": "python3"
  },
  "language_info": {
   "codemirror_mode": {
    "name": "ipython",
    "version": 3
   },
   "file_extension": ".py",
   "mimetype": "text/x-python",
   "name": "python",
   "nbconvert_exporter": "python",
   "pygments_lexer": "ipython3",
   "version": "3.9.7"
  },
  "source_map": [
   11,
   17,
   21
  ]
 },
 "nbformat": 4,
 "nbformat_minor": 5
}